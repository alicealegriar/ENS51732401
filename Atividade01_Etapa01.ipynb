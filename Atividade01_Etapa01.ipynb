{
 "cells": [
  {
   "cell_type": "markdown",
   "id": "676e9156-c65f-48b8-aac5-070242b7ad30",
   "metadata": {},
   "source": [
    "# Aula 2 - Phython"
   ]
  },
  {
   "cell_type": "markdown",
   "id": "626c5671-9cd0-4b74-a9fa-6cf2c1d6b480",
   "metadata": {},
   "source": [
    "## Dados numericos"
   ]
  },
  {
   "cell_type": "code",
   "execution_count": 2,
   "id": "05f84598-f7ab-44a0-884c-73d57132f668",
   "metadata": {},
   "outputs": [
    {
     "name": "stdout",
     "output_type": "stream",
     "text": [
      "Valor de a = 1\n"
     ]
    },
    {
     "data": {
      "text/plain": [
       "int"
      ]
     },
     "execution_count": 2,
     "metadata": {},
     "output_type": "execute_result"
    }
   ],
   "source": [
    "# Variável inteira\n",
    "a = 1\n",
    "print('Valor de a = '+str(a))\n",
    "type(a)"
   ]
  },
  {
   "cell_type": "code",
   "execution_count": 3,
   "id": "d63d4fa3-91c3-4655-89f5-d5a642290495",
   "metadata": {},
   "outputs": [
    {
     "name": "stdout",
     "output_type": "stream",
     "text": [
      "1.0\n"
     ]
    },
    {
     "data": {
      "text/plain": [
       "float"
      ]
     },
     "execution_count": 3,
     "metadata": {},
     "output_type": "execute_result"
    }
   ],
   "source": [
    "# Variável dupla precisão\n",
    "b = 1.0\n",
    "print(b)\n",
    "type(b)"
   ]
  },
  {
   "cell_type": "code",
   "execution_count": 4,
   "id": "59419340-c44a-48c4-a37b-31a15286c3c0",
   "metadata": {},
   "outputs": [
    {
     "name": "stdout",
     "output_type": "stream",
     "text": [
      "1\n"
     ]
    },
    {
     "data": {
      "text/plain": [
       "int"
      ]
     },
     "execution_count": 4,
     "metadata": {},
     "output_type": "execute_result"
    }
   ],
   "source": [
    "# Converter float para int\n",
    "c = int(b)\n",
    "print(c)\n",
    "type(c)"
   ]
  },
  {
   "cell_type": "code",
   "execution_count": 5,
   "id": "a1fec67a-6cba-4d8d-94f3-91415c8bf278",
   "metadata": {},
   "outputs": [
    {
     "name": "stdout",
     "output_type": "stream",
     "text": [
      "nan\n"
     ]
    },
    {
     "data": {
      "text/plain": [
       "float"
      ]
     },
     "execution_count": 5,
     "metadata": {},
     "output_type": "execute_result"
    }
   ],
   "source": [
    "# Delacrando nan\n",
    "import numpy as np\n",
    "d = np.nan\n",
    "print(d)\n",
    "type(d)"
   ]
  },
  {
   "cell_type": "code",
   "execution_count": 6,
   "id": "a4392e9b-d4ca-4338-915f-b789c96e2fc0",
   "metadata": {},
   "outputs": [
    {
     "name": "stdout",
     "output_type": "stream",
     "text": [
      "nan\n",
      "nan\n",
      "1.0\n"
     ]
    }
   ],
   "source": [
    "# Operação com NaN\n",
    "e = d*1\n",
    "print(e)\n",
    "e = d+1\n",
    "print(e)\n",
    "e = np.nansum([d,1])\n",
    "print(e)"
   ]
  },
  {
   "cell_type": "markdown",
   "id": "455ce062-24c1-4cee-bd7d-104e13060bea",
   "metadata": {},
   "source": [
    "# Dados de texto"
   ]
  },
  {
   "cell_type": "code",
   "execution_count": 7,
   "id": "f5efddfe-6a8c-42a8-86a8-987d30d4d420",
   "metadata": {},
   "outputs": [
    {
     "name": "stdout",
     "output_type": "stream",
     "text": [
      "Fábio\n",
      "Gabriel\n",
      "FábioGabriel\n",
      "Fábio Gabriel\n"
     ]
    }
   ],
   "source": [
    "# Declaração de variável texto\n",
    "f = 'Fábio'\n",
    "g = \"Gabriel\"\n",
    "print(f)\n",
    "print(g)\n",
    "print(f+g)\n",
    "print(f+' '+g)"
   ]
  },
  {
   "cell_type": "markdown",
   "id": "f5695ad4-7770-4995-b509-e58d65deb61e",
   "metadata": {},
   "source": [
    "# Dados tipo bool - lógica"
   ]
  },
  {
   "cell_type": "code",
   "execution_count": 8,
   "id": "1a72ea5b-f59f-4b6f-802e-b3d159f68814",
   "metadata": {},
   "outputs": [
    {
     "data": {
      "text/plain": [
       "True"
      ]
     },
     "execution_count": 8,
     "metadata": {},
     "output_type": "execute_result"
    }
   ],
   "source": [
    "a == 1"
   ]
  },
  {
   "cell_type": "code",
   "execution_count": 9,
   "id": "18092842-a199-4ee1-ad98-136f1c7833e9",
   "metadata": {},
   "outputs": [
    {
     "name": "stdout",
     "output_type": "stream",
     "text": [
      "True\n"
     ]
    },
    {
     "data": {
      "text/plain": [
       "bool"
      ]
     },
     "execution_count": 9,
     "metadata": {},
     "output_type": "execute_result"
    }
   ],
   "source": [
    "h = (a==1)\n",
    "print(h)\n",
    "type(h)"
   ]
  },
  {
   "cell_type": "code",
   "execution_count": 10,
   "id": "19e0fb67-8ef2-4dbb-8fcd-d7714927b052",
   "metadata": {},
   "outputs": [
    {
     "name": "stdout",
     "output_type": "stream",
     "text": [
      "False\n"
     ]
    },
    {
     "data": {
      "text/plain": [
       "bool"
      ]
     },
     "execution_count": 10,
     "metadata": {},
     "output_type": "execute_result"
    }
   ],
   "source": [
    "h = (a==2)\n",
    "print(h)\n",
    "type(h)"
   ]
  },
  {
   "cell_type": "code",
   "execution_count": 11,
   "id": "31797c67-6dbf-45dd-904d-4d67aea2965e",
   "metadata": {},
   "outputs": [
    {
     "data": {
      "text/plain": [
       "bool"
      ]
     },
     "execution_count": 11,
     "metadata": {},
     "output_type": "execute_result"
    }
   ],
   "source": [
    "i = True\n",
    "type(i)"
   ]
  },
  {
   "cell_type": "code",
   "execution_count": 12,
   "id": "cd176b64-6cb4-497c-9635-4964eff6731c",
   "metadata": {},
   "outputs": [
    {
     "data": {
      "text/plain": [
       "str"
      ]
     },
     "execution_count": 12,
     "metadata": {},
     "output_type": "execute_result"
    }
   ],
   "source": [
    "ii = 'True'\n",
    "type(ii)"
   ]
  },
  {
   "cell_type": "markdown",
   "id": "4ce92970-22c9-4c76-8fad-5be1846660fb",
   "metadata": {},
   "source": [
    "# Operação de comparação"
   ]
  },
  {
   "cell_type": "code",
   "execution_count": 13,
   "id": "90c27d01-6c15-4f67-b2cf-bf6cfebab191",
   "metadata": {},
   "outputs": [
    {
     "data": {
      "text/plain": [
       "True"
      ]
     },
     "execution_count": 13,
     "metadata": {},
     "output_type": "execute_result"
    }
   ],
   "source": [
    "# Operação ==\n",
    "a==b"
   ]
  },
  {
   "cell_type": "code",
   "execution_count": 14,
   "id": "60f56e9b-cd28-46ab-9704-52fb5633fef7",
   "metadata": {},
   "outputs": [
    {
     "data": {
      "text/plain": [
       "False"
      ]
     },
     "execution_count": 14,
     "metadata": {},
     "output_type": "execute_result"
    }
   ],
   "source": [
    "# Operação ><\n",
    "a>b"
   ]
  },
  {
   "cell_type": "code",
   "execution_count": 15,
   "id": "7a14845d-8306-4eb7-9e3a-0ed86a1b33d3",
   "metadata": {},
   "outputs": [
    {
     "data": {
      "text/plain": [
       "False"
      ]
     },
     "execution_count": 15,
     "metadata": {},
     "output_type": "execute_result"
    }
   ],
   "source": [
    "# Operação !=\n",
    "a!=b"
   ]
  },
  {
   "cell_type": "code",
   "execution_count": 16,
   "id": "d0082c07-52e3-4b27-98f9-3e601778c63d",
   "metadata": {},
   "outputs": [
    {
     "data": {
      "text/plain": [
       "True"
      ]
     },
     "execution_count": 16,
     "metadata": {},
     "output_type": "execute_result"
    }
   ],
   "source": [
    "# Operação >= ou <=\n",
    "a>=b"
   ]
  },
  {
   "cell_type": "markdown",
   "id": "774a5b5e-acda-4053-ac2b-84ac276f1dcb",
   "metadata": {},
   "source": [
    "# Operações matemáticas"
   ]
  },
  {
   "cell_type": "code",
   "execution_count": 17,
   "id": "d74f721e-c5b8-4246-a6b6-1ef693074c2b",
   "metadata": {},
   "outputs": [
    {
     "data": {
      "text/plain": [
       "2.0"
      ]
     },
     "execution_count": 17,
     "metadata": {},
     "output_type": "execute_result"
    }
   ],
   "source": [
    "# Soma \n",
    "a+b"
   ]
  },
  {
   "cell_type": "code",
   "execution_count": 18,
   "id": "0be7d25a-50ed-4361-a15c-1ef0ead7cd0a",
   "metadata": {},
   "outputs": [
    {
     "name": "stdout",
     "output_type": "stream",
     "text": [
      "2.0\n"
     ]
    }
   ],
   "source": [
    "# Soma e atribui valor\n",
    "ab = a+b\n",
    "print(ab)"
   ]
  },
  {
   "cell_type": "code",
   "execution_count": 19,
   "id": "1b01d1b1-d436-4a1d-a680-f62930284828",
   "metadata": {},
   "outputs": [
    {
     "name": "stdout",
     "output_type": "stream",
     "text": [
      "Não use l como nome de variável\n",
      "1.0\n"
     ]
    }
   ],
   "source": [
    "# Multiplicação\n",
    "l = a*b # Não use l como variável\n",
    "print(\"Não use l como nome de variável\")\n",
    "j = a*b\n",
    "print(j)"
   ]
  },
  {
   "cell_type": "code",
   "execution_count": 20,
   "id": "6262cc03-ae17-4ff6-825b-484fe5715cc2",
   "metadata": {},
   "outputs": [
    {
     "data": {
      "text/plain": [
       "1.0"
      ]
     },
     "execution_count": 20,
     "metadata": {},
     "output_type": "execute_result"
    }
   ],
   "source": [
    "# Divisão\n",
    "a/b"
   ]
  },
  {
   "cell_type": "code",
   "execution_count": 21,
   "id": "b3f96723-4615-4240-970b-2fca524f4ef1",
   "metadata": {},
   "outputs": [
    {
     "data": {
      "text/plain": [
       "25"
      ]
     },
     "execution_count": 21,
     "metadata": {},
     "output_type": "execute_result"
    }
   ],
   "source": [
    "# Potencia\n",
    "5**2"
   ]
  },
  {
   "cell_type": "code",
   "execution_count": 22,
   "id": "004ce875-71f3-4a11-b660-7bab601be8de",
   "metadata": {},
   "outputs": [
    {
     "data": {
      "text/plain": [
       "22026.465794806718"
      ]
     },
     "execution_count": 22,
     "metadata": {},
     "output_type": "execute_result"
    }
   ],
   "source": [
    "# Operações matemáticas com a bibliotéca math\n",
    "import math\n",
    "\n",
    "math.exp(10)"
   ]
  },
  {
   "cell_type": "code",
   "execution_count": 23,
   "id": "80c4ec10-71c1-43f9-87d7-a6e05dfc3ddf",
   "metadata": {},
   "outputs": [
    {
     "data": {
      "text/plain": [
       "1.0"
      ]
     },
     "execution_count": 23,
     "metadata": {},
     "output_type": "execute_result"
    }
   ],
   "source": [
    "math.exp(0)"
   ]
  },
  {
   "cell_type": "code",
   "execution_count": 24,
   "id": "c193bbbb-d63f-4475-a7d6-4e7bf7c22701",
   "metadata": {},
   "outputs": [
    {
     "data": {
      "text/plain": [
       "2.718281828459045"
      ]
     },
     "execution_count": 24,
     "metadata": {},
     "output_type": "execute_result"
    }
   ],
   "source": [
    "math.exp(a)"
   ]
  },
  {
   "cell_type": "code",
   "execution_count": 25,
   "id": "95806c79-69c1-42cd-b54c-61a0d0831b5a",
   "metadata": {},
   "outputs": [
    {
     "data": {
      "text/plain": [
       "4.5399929762484854e-05"
      ]
     },
     "execution_count": 25,
     "metadata": {},
     "output_type": "execute_result"
    }
   ],
   "source": [
    "math.exp(-10)"
   ]
  },
  {
   "cell_type": "code",
   "execution_count": 26,
   "id": "f406d5fd-56a5-4efb-a2b2-162aa765b5f7",
   "metadata": {},
   "outputs": [
    {
     "data": {
      "text/plain": [
       "0.0"
      ]
     },
     "execution_count": 26,
     "metadata": {},
     "output_type": "execute_result"
    }
   ],
   "source": [
    "import math as mt\n",
    "mt.log(c)"
   ]
  },
  {
   "cell_type": "code",
   "execution_count": 27,
   "id": "45db352e-060d-4970-a127-7384633678d7",
   "metadata": {},
   "outputs": [
    {
     "data": {
      "text/plain": [
       "2.0"
      ]
     },
     "execution_count": 27,
     "metadata": {},
     "output_type": "execute_result"
    }
   ],
   "source": [
    "mt.log10(100)"
   ]
  },
  {
   "cell_type": "markdown",
   "id": "5e0fc957-c44b-4fb2-8a34-dcc9327f4c88",
   "metadata": {},
   "source": [
    "# Listas"
   ]
  },
  {
   "cell_type": "code",
   "execution_count": 28,
   "id": "85cce1c8-0132-481c-9e18-224a0e971691",
   "metadata": {},
   "outputs": [
    {
     "name": "stdout",
     "output_type": "stream",
     "text": [
      "[1, 2, 3]\n"
     ]
    }
   ],
   "source": [
    "myFirstList = [1,2,3]\n",
    "print(myFirstList)"
   ]
  },
  {
   "cell_type": "code",
   "execution_count": 29,
   "id": "e1ed400d-4d82-4c21-a23a-c477600c6ac0",
   "metadata": {},
   "outputs": [
    {
     "name": "stdout",
     "output_type": "stream",
     "text": [
      "1\n",
      "3\n"
     ]
    }
   ],
   "source": [
    "# Acessando valores da lista pelo index\n",
    "print(myFirstList[0])\n",
    "print(myFirstList[2])"
   ]
  },
  {
   "cell_type": "code",
   "execution_count": 30,
   "id": "c653c5c8-3771-4487-85a9-2de71a0a8072",
   "metadata": {},
   "outputs": [
    {
     "data": {
      "text/plain": [
       "False"
      ]
     },
     "execution_count": 30,
     "metadata": {},
     "output_type": "execute_result"
    }
   ],
   "source": [
    "myFirstList==a"
   ]
  },
  {
   "cell_type": "code",
   "execution_count": 31,
   "id": "7b1629b6-f771-4f36-8c51-f9cda3cddb14",
   "metadata": {},
   "outputs": [
    {
     "data": {
      "text/plain": [
       "True"
      ]
     },
     "execution_count": 31,
     "metadata": {},
     "output_type": "execute_result"
    }
   ],
   "source": [
    "myFirstList[0]==a"
   ]
  },
  {
   "cell_type": "code",
   "execution_count": 32,
   "id": "b0eb2f35-7a8f-4276-8756-09339a3bb095",
   "metadata": {},
   "outputs": [
    {
     "name": "stdout",
     "output_type": "stream",
     "text": [
      "[1, 1, 'c']\n"
     ]
    }
   ],
   "source": [
    "mySecList = [1,a,'c']\n",
    "print(mySecList)"
   ]
  },
  {
   "cell_type": "code",
   "execution_count": 33,
   "id": "b2b461c3-19f9-44c1-9ea9-3d6f0a76c5a4",
   "metadata": {},
   "outputs": [
    {
     "data": {
      "text/plain": [
       "list"
      ]
     },
     "execution_count": 33,
     "metadata": {},
     "output_type": "execute_result"
    }
   ],
   "source": [
    "type(mySecList)"
   ]
  },
  {
   "cell_type": "code",
   "execution_count": 34,
   "id": "207bb005-0220-4269-85b3-b447e47054a3",
   "metadata": {},
   "outputs": [
    {
     "data": {
      "text/plain": [
       "str"
      ]
     },
     "execution_count": 34,
     "metadata": {},
     "output_type": "execute_result"
    }
   ],
   "source": [
    "type(mySecList[2])"
   ]
  },
  {
   "cell_type": "code",
   "execution_count": 35,
   "id": "a8435556-02b3-4023-87dd-82f8941d00f8",
   "metadata": {},
   "outputs": [
    {
     "data": {
      "text/plain": [
       "int"
      ]
     },
     "execution_count": 35,
     "metadata": {},
     "output_type": "execute_result"
    }
   ],
   "source": [
    "type(mySecList[1])"
   ]
  },
  {
   "cell_type": "markdown",
   "id": "d2deaa0e-3d76-4bad-8877-e435629212e0",
   "metadata": {},
   "source": [
    "# Caminhos = path"
   ]
  },
  {
   "cell_type": "code",
   "execution_count": 36,
   "id": "2e026745-d961-4807-848d-45886ccf46bc",
   "metadata": {},
   "outputs": [
    {
     "name": "stdout",
     "output_type": "stream",
     "text": [
      "C:\\Users\\alice\\OneDrive\\Área de Trabalho\\UFSC 24.1\\Poluicao\\ENS51732401\n"
     ]
    }
   ],
   "source": [
    "path = r\"C:\\Users\\alice\\OneDrive\\Área de Trabalho\\UFSC 24.1\\Poluicao\\ENS51732401\"\n",
    "print(path)"
   ]
  },
  {
   "cell_type": "code",
   "execution_count": 44,
   "id": "987f5080-ae97-440a-93e0-624606ab314e",
   "metadata": {},
   "outputs": [
    {
     "name": "stdout",
     "output_type": "stream",
     "text": [
      "C:/Users/alice/OneDrive/Área de Trabalho/UFSC 24.1/Poluicao/ENS51732401\n"
     ]
    }
   ],
   "source": [
    "path = \"C:/Users/alice/OneDrive/Área de Trabalho/UFSC 24.1/Poluicao/ENS51732401\"\n",
    "print(path)"
   ]
  },
  {
   "cell_type": "code",
   "execution_count": 45,
   "id": "3fc151b6-2225-4a7b-995a-2471686ca0df",
   "metadata": {},
   "outputs": [
    {
     "data": {
      "text/plain": [
       "['.git',\n",
       " '.gitignore.txt',\n",
       " '.ipynb_checkpoints',\n",
       " 'Aula01.ipynb',\n",
       " 'inputs',\n",
       " 'README.md',\n",
       " 'scripts',\n",
       " 'venv']"
      ]
     },
     "execution_count": 45,
     "metadata": {},
     "output_type": "execute_result"
    }
   ],
   "source": [
    "import os\n",
    "# Listar arquivos na pasta\n",
    "os.listdir(path)"
   ]
  },
  {
   "cell_type": "code",
   "execution_count": 46,
   "id": "8b1ef73b-2579-460f-9db5-ed8ca697f89e",
   "metadata": {},
   "outputs": [
    {
     "data": {
      "text/plain": [
       "'.git'"
      ]
     },
     "execution_count": 46,
     "metadata": {},
     "output_type": "execute_result"
    }
   ],
   "source": [
    "# Selecionar primeiro arquivo listado\n",
    "os.listdir(path)[0]"
   ]
  },
  {
   "cell_type": "code",
   "execution_count": 47,
   "id": "77870c8e-a4b8-441a-b7de-ba548253f99b",
   "metadata": {},
   "outputs": [
    {
     "data": {
      "text/plain": [
       "'C:/Users/alice/OneDrive/Área de Trabalho/UFSC 24.1/Poluicao/ENS51732401/.git'"
      ]
     },
     "execution_count": 47,
     "metadata": {},
     "output_type": "execute_result"
    }
   ],
   "source": [
    "# Concatenando caminhos\n",
    "path+\"/\"+os.listdir(path)[0]"
   ]
  },
  {
   "cell_type": "code",
   "execution_count": 48,
   "id": "d519e617-59e9-4d24-ab10-85b04f5fd88c",
   "metadata": {},
   "outputs": [
    {
     "data": {
      "text/plain": [
       "['config',\n",
       " 'description',\n",
       " 'FETCH_HEAD',\n",
       " 'HEAD',\n",
       " 'hooks',\n",
       " 'index',\n",
       " 'info',\n",
       " 'logs',\n",
       " 'objects',\n",
       " 'packed-refs',\n",
       " 'refs']"
      ]
     },
     "execution_count": 48,
     "metadata": {},
     "output_type": "execute_result"
    }
   ],
   "source": [
    "# Listando caminho concatenado\n",
    "os.listdir(path+\"/\"+os.listdir(path)[0])"
   ]
  },
  {
   "cell_type": "code",
   "execution_count": 49,
   "id": "e04ab989-9345-4e6e-b3ba-d3a445560cdc",
   "metadata": {},
   "outputs": [
    {
     "data": {
      "text/plain": [
       "'C:\\\\Users\\\\alice\\\\OneDrive\\\\Área de Trabalho\\\\UFSC 24.1\\\\Poluicao\\\\ENS51732401\\\\venv\\\\Scripts'"
      ]
     },
     "execution_count": 49,
     "metadata": {},
     "output_type": "execute_result"
    }
   ],
   "source": [
    "# Diretório que estou trababalhando\n",
    "os.getcwd()"
   ]
  },
  {
   "cell_type": "code",
   "execution_count": 50,
   "id": "2f728c88-9061-40ad-a3c4-638d878e7e19",
   "metadata": {},
   "outputs": [],
   "source": [
    "# Mudo de diretório para o caminho \n",
    "os.chdir('C:\\\\Users\\\\alice\\\\OneDrive\\\\Área de Trabalho\\\\UFSC 24.1\\\\Poluicao\\\\')"
   ]
  },
  {
   "cell_type": "code",
   "execution_count": 51,
   "id": "c0d1d577-227c-45e3-9ae5-b41273827c2c",
   "metadata": {},
   "outputs": [
    {
     "data": {
      "text/plain": [
       "'C:\\\\Users\\\\alice\\\\OneDrive\\\\Área de Trabalho\\\\UFSC 24.1\\\\Poluicao'"
      ]
     },
     "execution_count": 51,
     "metadata": {},
     "output_type": "execute_result"
    }
   ],
   "source": [
    "os.getcwd()"
   ]
  },
  {
   "cell_type": "code",
   "execution_count": 52,
   "id": "3cb42f62-e784-4dfa-b544-94b05b0038f2",
   "metadata": {},
   "outputs": [
    {
     "name": "stdout",
     "output_type": "stream",
     "text": [
      "Criando diretório C:\\Users\\alice\\OneDrive\\Área de Trabalho\\UFSC 24.1\\Poluicao/test\n"
     ]
    }
   ],
   "source": [
    "# Criando diretório\n",
    "new_path = os.getcwd()+'/test'\n",
    "\n",
    "if os.path.isdir(new_path):\n",
    "    print('diretório já existe')\n",
    "else:\n",
    "    print('Criando diretório '+new_path)\n",
    "    os.mkdir(new_path)"
   ]
  },
  {
   "cell_type": "code",
   "execution_count": 53,
   "id": "9b5b0d42-206c-48ef-a07d-024b2ad0e6a1",
   "metadata": {},
   "outputs": [
    {
     "name": "stdout",
     "output_type": "stream",
     "text": [
      "Criando diretório C:\\Users\\alice\\OneDrive\\Área de Trabalho\\UFSC 24.1\\Poluicao/test2\n"
     ]
    }
   ],
   "source": [
    "# Criando diretório\n",
    "new_path = os.getcwd()+'/test2'\n",
    "\n",
    "if os.path.isdir(new_path):\n",
    "    print('diretório já existe')\n",
    "    # Criando um arquivo de texto\n",
    "    with open(new_path+\"/copy.txt\", \"w\") as file:\n",
    "        file.write(\"Your text goes here\")\n",
    "else:\n",
    "    print('Criando diretório '+new_path)\n",
    "    os.mkdir(new_path)\n",
    "    with open(new_path+\"/copy.txt\", \"w\") as file:\n",
    "        file.write(\"Your text goes here\")"
   ]
  },
  {
   "cell_type": "markdown",
   "id": "007ad49c-e573-45cb-9675-0863fc32c5fc",
   "metadata": {},
   "source": [
    "# Numpy arrays e Pandas DataFrames"
   ]
  },
  {
   "cell_type": "code",
   "execution_count": 54,
   "id": "299dc51c-5f03-4995-ab2d-aa6b7e1bb00e",
   "metadata": {},
   "outputs": [
    {
     "data": {
      "text/plain": [
       "numpy.ndarray"
      ]
     },
     "execution_count": 54,
     "metadata": {},
     "output_type": "execute_result"
    }
   ],
   "source": [
    "import numpy as np\n",
    "# Criando uma variável numpy\n",
    "n = np.array(0)\n",
    "type(n)"
   ]
  },
  {
   "cell_type": "code",
   "execution_count": 55,
   "id": "5e913c2c-6f6e-4ac6-89ec-13960d749122",
   "metadata": {},
   "outputs": [
    {
     "name": "stdout",
     "output_type": "stream",
     "text": [
      "[ 1  2  3 10 20 55]\n"
     ]
    }
   ],
   "source": [
    "# Criando uma variável numpy a partir de uma lista\n",
    "myThirdList=[1,2,3,10,20,55]\n",
    "n = np.array(myThirdList)\n",
    "print(n)"
   ]
  },
  {
   "cell_type": "code",
   "execution_count": 56,
   "id": "b7fb9630-5377-47df-9232-f5392a60d10c",
   "metadata": {},
   "outputs": [
    {
     "name": "stdout",
     "output_type": "stream",
     "text": [
      "[[0.347405   0.7103404  0.14942143 0.19783979 0.58592833 0.1089658\n",
      "  0.03349069 0.2267612  0.08909086 0.52727925]\n",
      " [0.86189846 0.79886804 0.07278793 0.82149084 0.45835486 0.99728461\n",
      "  0.55132104 0.19613227 0.94952005 0.13012928]\n",
      " [0.69033214 0.82429002 0.9909738  0.14330905 0.92483009 0.89935039\n",
      "  0.73642549 0.91987612 0.80445778 0.93984332]\n",
      " [0.56476438 0.67139776 0.21270965 0.75351439 0.53564285 0.04746312\n",
      "  0.01316003 0.70465819 0.21848433 0.26813564]\n",
      " [0.1103305  0.5701101  0.32868747 0.77000735 0.75240219 0.70789931\n",
      "  0.97470751 0.34212634 0.55151747 0.18393275]\n",
      " [0.42791186 0.71792692 0.04974777 0.88246822 0.2168899  0.30388347\n",
      "  0.73961907 0.44043506 0.01604247 0.76012194]\n",
      " [0.84512755 0.37916986 0.82376939 0.83295031 0.76230226 0.66655906\n",
      "  0.49557315 0.80329427 0.68350658 0.32152318]\n",
      " [0.83850726 0.69662894 0.76121801 0.97709444 0.9868214  0.42260143\n",
      "  0.84026122 0.51432807 0.51225052 0.7479516 ]\n",
      " [0.87106377 0.29006133 0.42663474 0.36149167 0.7426938  0.04342235\n",
      "  0.33423122 0.05355045 0.72902704 0.13671628]\n",
      " [0.04037465 0.04298512 0.81622491 0.89799292 0.99731187 0.7716298\n",
      "  0.71763429 0.84533487 0.79656448 0.18873734]]\n",
      "(10, 10)\n"
     ]
    }
   ],
   "source": [
    "# Criando uma matriz de 10x10 de números aleatórios entre 0 e 1\n",
    "n = np.random.rand(10,10)\n",
    "print(n)\n",
    "# Dimensões da matrix\n",
    "print(n.shape)"
   ]
  },
  {
   "cell_type": "code",
   "execution_count": 57,
   "id": "895fa030-6e33-4b19-ad7a-187fe70eacda",
   "metadata": {},
   "outputs": [
    {
     "data": {
      "text/plain": [
       "array([0.347405  , 0.7103404 , 0.14942143, 0.19783979, 0.58592833,\n",
       "       0.1089658 , 0.03349069, 0.2267612 , 0.08909086, 0.52727925])"
      ]
     },
     "execution_count": 57,
     "metadata": {},
     "output_type": "execute_result"
    }
   ],
   "source": [
    "# Acessando valores da matriz\n",
    "n[0,:]"
   ]
  },
  {
   "cell_type": "code",
   "execution_count": 58,
   "id": "2fc43b61-c0a7-4bae-a0dd-7b33dd8220f4",
   "metadata": {},
   "outputs": [
    {
     "data": {
      "text/plain": [
       "array([0.347405  , 0.86189846, 0.69033214, 0.56476438, 0.1103305 ,\n",
       "       0.42791186, 0.84512755, 0.83850726, 0.87106377, 0.04037465])"
      ]
     },
     "execution_count": 58,
     "metadata": {},
     "output_type": "execute_result"
    }
   ],
   "source": [
    "n[:,0]"
   ]
  },
  {
   "cell_type": "code",
   "execution_count": 59,
   "id": "67fc2d19-a7a1-4f3a-8d38-2f8abbeedcc6",
   "metadata": {},
   "outputs": [
    {
     "data": {
      "text/plain": [
       "array([[0.7103404 , 0.14942143, 0.19783979, 0.58592833],\n",
       "       [0.79886804, 0.07278793, 0.82149084, 0.45835486],\n",
       "       [0.82429002, 0.9909738 , 0.14330905, 0.92483009],\n",
       "       [0.67139776, 0.21270965, 0.75351439, 0.53564285],\n",
       "       [0.5701101 , 0.32868747, 0.77000735, 0.75240219],\n",
       "       [0.71792692, 0.04974777, 0.88246822, 0.2168899 ],\n",
       "       [0.37916986, 0.82376939, 0.83295031, 0.76230226],\n",
       "       [0.69662894, 0.76121801, 0.97709444, 0.9868214 ],\n",
       "       [0.29006133, 0.42663474, 0.36149167, 0.7426938 ],\n",
       "       [0.04298512, 0.81622491, 0.89799292, 0.99731187]])"
      ]
     },
     "execution_count": 59,
     "metadata": {},
     "output_type": "execute_result"
    }
   ],
   "source": [
    "n[:,1:5]"
   ]
  },
  {
   "cell_type": "code",
   "execution_count": 60,
   "id": "0d2676f9-82df-40fc-95e1-1a3c2673e819",
   "metadata": {},
   "outputs": [
    {
     "data": {
      "text/plain": [
       "array([0.7103404 , 0.14942143, 0.19783979, 0.58592833])"
      ]
     },
     "execution_count": 60,
     "metadata": {},
     "output_type": "execute_result"
    }
   ],
   "source": [
    "n[0,1:5]"
   ]
  },
  {
   "cell_type": "code",
   "execution_count": 61,
   "id": "eac3de6b-2c86-4157-8190-a633ba4259a9",
   "metadata": {},
   "outputs": [
    {
     "data": {
      "text/plain": [
       "0.5272792484649643"
      ]
     },
     "execution_count": 61,
     "metadata": {},
     "output_type": "execute_result"
    }
   ],
   "source": [
    "n[0,-1]"
   ]
  },
  {
   "cell_type": "code",
   "execution_count": 62,
   "id": "36515a3c-0a34-4352-b487-1fe652759c45",
   "metadata": {},
   "outputs": [
    {
     "data": {
      "text/plain": [
       "array([0.58592833, 0.1089658 , 0.03349069, 0.2267612 , 0.08909086])"
      ]
     },
     "execution_count": 62,
     "metadata": {},
     "output_type": "execute_result"
    }
   ],
   "source": [
    "n[0,4:-1]"
   ]
  },
  {
   "cell_type": "code",
   "execution_count": 63,
   "id": "9e5e2ebb-f584-42a5-a1ab-0d371f52586f",
   "metadata": {},
   "outputs": [
    {
     "data": {
      "text/plain": [
       "array([0.58592833, 0.1089658 , 0.03349069, 0.2267612 , 0.08909086,\n",
       "       0.52727925])"
      ]
     },
     "execution_count": 63,
     "metadata": {},
     "output_type": "execute_result"
    }
   ],
   "source": [
    "n[0,4:]"
   ]
  },
  {
   "cell_type": "code",
   "execution_count": 64,
   "id": "113cd337-e74f-4416-943f-62f40669b5c3",
   "metadata": {},
   "outputs": [
    {
     "name": "stdout",
     "output_type": "stream",
     "text": [
      "[[ 0.55217389  1.26742693 -0.29154664 -0.01085979  1.07488011 -0.6072833\n",
      "  -1.78704979  0.1255801  -0.80866058  0.96941292]\n",
      " [ 1.46082011  1.38487842 -1.01076724  1.41280342  0.82932633  1.60671883\n",
      "   1.01399992 -0.01952807  1.55763928 -0.42978894]\n",
      " [ 1.23885547  1.41620507  1.60037073 -0.33331388  1.53129267  1.50335535\n",
      "   1.30349069  1.52592165  1.39185111  1.54739581]\n",
      " [ 1.03809126  1.21104438  0.06161073  1.32643074  0.98515025 -1.43836442\n",
      "  -2.7211333   1.25939548  0.08839692  0.29317559]\n",
      " [-0.59483697  1.04751214  0.49678999  1.34808269  1.32495364  1.26398451\n",
      "   1.58382007  0.53686273  1.01435616 -0.08374717]\n",
      " [ 0.76059986  1.27805042 -1.39135166  1.48440541  0.08107248  0.41832692\n",
      "   1.30781791  0.78944563 -2.5230778   1.3351615 ]\n",
      " [ 1.4411702   0.63966693  1.41557325  1.42665662  1.33802578  1.20381138\n",
      "   0.9073976   1.39040375  1.22891892  0.47475227]\n",
      " [ 1.43330587  1.24793553  1.33660243  1.58626595  1.5961717   0.74811211\n",
      "   1.43539545  0.94454397  0.94049644  1.3190209 ]\n",
      " [ 1.47139782  0.37177501  0.75761088  0.59192164  1.31196648 -1.52734299\n",
      "   0.51351568 -1.31769312  1.29339346 -0.38040952]\n",
      " [-1.60011525 -1.53746329  1.40637257  1.50184482  1.60674616  1.35018753\n",
      "   1.27764272  1.44141547  1.38199072 -0.05796107]]\n"
     ]
    }
   ],
   "source": [
    "an = np.log(n*5)\n",
    "print(an)"
   ]
  },
  {
   "cell_type": "code",
   "execution_count": null,
   "id": "460e43e4-7d95-4ea8-bb75-690b5cc1a490",
   "metadata": {},
   "outputs": [],
   "source": []
  }
 ],
 "metadata": {
  "kernelspec": {
   "display_name": "Python 3 (ipykernel)",
   "language": "python",
   "name": "python3"
  },
  "language_info": {
   "codemirror_mode": {
    "name": "ipython",
    "version": 3
   },
   "file_extension": ".py",
   "mimetype": "text/x-python",
   "name": "python",
   "nbconvert_exporter": "python",
   "pygments_lexer": "ipython3",
   "version": "3.11.8"
  }
 },
 "nbformat": 4,
 "nbformat_minor": 5
}
